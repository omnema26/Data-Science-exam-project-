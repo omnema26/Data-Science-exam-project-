{
 "cells": [
  {
   "cell_type": "code",
   "execution_count": 24,
   "id": "7a4a3796",
   "metadata": {},
   "outputs": [
    {
     "name": "stdout",
     "output_type": "stream",
     "text": [
      "Requirement already satisfied: tweepy in c:\\users\\neelsoft\\documents\\python scripts\\lib\\site-packages (4.13.0)\n",
      "Requirement already satisfied: oauthlib<4,>=3.2.0 in c:\\users\\neelsoft\\documents\\python scripts\\lib\\site-packages (from tweepy) (3.2.2)\n",
      "Requirement already satisfied: requests<3,>=2.27.0 in c:\\users\\neelsoft\\documents\\python scripts\\lib\\site-packages (from tweepy) (2.28.2)\n",
      "Requirement already satisfied: requests-oauthlib<2,>=1.2.0 in c:\\users\\neelsoft\\documents\\python scripts\\lib\\site-packages (from tweepy) (1.3.1)\n",
      "Requirement already satisfied: charset-normalizer<4,>=2 in c:\\users\\neelsoft\\documents\\python scripts\\lib\\site-packages (from requests<3,>=2.27.0->tweepy) (2.0.4)\n",
      "Requirement already satisfied: certifi>=2017.4.17 in c:\\users\\neelsoft\\documents\\python scripts\\lib\\site-packages (from requests<3,>=2.27.0->tweepy) (2021.10.8)\n",
      "Requirement already satisfied: idna<4,>=2.5 in c:\\users\\neelsoft\\documents\\python scripts\\lib\\site-packages (from requests<3,>=2.27.0->tweepy) (3.3)\n",
      "Requirement already satisfied: urllib3<1.27,>=1.21.1 in c:\\users\\neelsoft\\documents\\python scripts\\lib\\site-packages (from requests<3,>=2.27.0->tweepy) (1.26.9)\n",
      "Requirement already satisfied: plotly in c:\\users\\neelsoft\\documents\\python scripts\\lib\\site-packages (5.14.1)\n",
      "Requirement already satisfied: tenacity>=6.2.0 in c:\\users\\neelsoft\\documents\\python scripts\\lib\\site-packages (from plotly) (8.0.1)\n",
      "Requirement already satisfied: packaging in c:\\users\\neelsoft\\documents\\python scripts\\lib\\site-packages (from plotly) (21.3)\n",
      "Requirement already satisfied: pyparsing!=3.0.5,>=2.0.2 in c:\\users\\neelsoft\\documents\\python scripts\\lib\\site-packages (from packaging->plotly) (3.0.4)\n",
      "Requirement already satisfied: requests in c:\\users\\neelsoft\\documents\\python scripts\\lib\\site-packages (2.28.2)\n",
      "Requirement already satisfied: certifi>=2017.4.17 in c:\\users\\neelsoft\\documents\\python scripts\\lib\\site-packages (from requests) (2021.10.8)\n",
      "Requirement already satisfied: idna<4,>=2.5 in c:\\users\\neelsoft\\documents\\python scripts\\lib\\site-packages (from requests) (3.3)\n",
      "Requirement already satisfied: urllib3<1.27,>=1.21.1 in c:\\users\\neelsoft\\documents\\python scripts\\lib\\site-packages (from requests) (1.26.9)\n",
      "Requirement already satisfied: charset-normalizer<4,>=2 in c:\\users\\neelsoft\\documents\\python scripts\\lib\\site-packages (from requests) (2.0.4)\n",
      "Requirement already satisfied: iso639 in c:\\users\\neelsoft\\documents\\python scripts\\lib\\site-packages (0.1.4)\n",
      "Requirement already satisfied: langdetect in c:\\users\\neelsoft\\documents\\python scripts\\lib\\site-packages (1.0.9)\n",
      "Requirement already satisfied: six in c:\\users\\neelsoft\\documents\\python scripts\\lib\\site-packages (from langdetect) (1.16.0)\n"
     ]
    }
   ],
   "source": [
    "#Importing libraries\n",
    "\n",
    "\n",
    "# Installing and importing required libraries\n",
    "!pip install -U tweepy\n",
    "!pip install -U plotly\n",
    "!pip install -U requests\n",
    "!pip install -U iso639\n",
    "!pip install -U langdetect\n",
    "import iso639\n",
    "import requests\n",
    "import tweepy\n",
    "from langdetect import detect\n",
    "import ipywidgets as widgets\n",
    "import matplotlib.pyplot as plt\n",
    "import pandas as pd\n",
    "import plotly.express as px\n",
    "\n",
    "%matplotlib inline"
   ]
  },
  {
   "cell_type": "code",
   "execution_count": 13,
   "id": "5bc44877",
   "metadata": {},
   "outputs": [],
   "source": [
    "#credentials from twitter developer account\n",
    "API_key='qlYBGnINW1bJqaKn7tNQgxyF0'\n",
    "API_key_secret='RIW7NfvPW31BrLdzr4m1k2WVAyQl1fuiEzv3eBVqbIvGUdpIZv'\n",
    "Access_token='1574104217790296064-Fa7pn5GFRqBWqp2OPizmylw3oQJbWX'\n",
    "Access_token_secret='WhSomQxicE9jqQLPqEH10OvOr7T2yCRMMGV7A5ppH39aq'"
   ]
  },
  {
   "cell_type": "code",
   "execution_count": 14,
   "id": "0e58863c",
   "metadata": {},
   "outputs": [],
   "source": [
    "# Authentication handler with tweepy\n",
    "authenticate = tweepy.OAuthHandler(API_key,API_key_secret)"
   ]
  },
  {
   "cell_type": "code",
   "execution_count": 15,
   "id": "42526640",
   "metadata": {},
   "outputs": [],
   "source": [
    "# Setting access tokens to the handler\n",
    "authenticate.set_access_token(Access_token,Access_token_secret)"
   ]
  },
  {
   "cell_type": "code",
   "execution_count": 16,
   "id": "02cdb196",
   "metadata": {},
   "outputs": [],
   "source": [
    "#defining api \n",
    "API = tweepy.API(authenticate,wait_on_rate_limit=True)"
   ]
  },
  {
   "cell_type": "code",
   "execution_count": 17,
   "id": "8daeeee6",
   "metadata": {},
   "outputs": [],
   "source": [
    "#For trends in India we have to get where on earth id(woeid)\n",
    "woeid=23424848"
   ]
  },
  {
   "cell_type": "code",
   "execution_count": null,
   "id": "827db6fb",
   "metadata": {},
   "outputs": [],
   "source": []
  },
  {
   "cell_type": "code",
   "execution_count": 18,
   "id": "d216fd9e",
   "metadata": {},
   "outputs": [],
   "source": [
    "#Get twitter Trends By WOEID"
   ]
  },
  {
   "cell_type": "code",
   "execution_count": 19,
   "id": "61418f4b",
   "metadata": {},
   "outputs": [
    {
     "data": {
      "text/html": [
       "<div>\n",
       "<style scoped>\n",
       "    .dataframe tbody tr th:only-of-type {\n",
       "        vertical-align: middle;\n",
       "    }\n",
       "\n",
       "    .dataframe tbody tr th {\n",
       "        vertical-align: top;\n",
       "    }\n",
       "\n",
       "    .dataframe thead th {\n",
       "        text-align: right;\n",
       "    }\n",
       "</style>\n",
       "<table border=\"1\" class=\"dataframe\">\n",
       "  <thead>\n",
       "    <tr style=\"text-align: right;\">\n",
       "      <th></th>\n",
       "      <th>Trends</th>\n",
       "      <th>Volume</th>\n",
       "      <th>Language</th>\n",
       "    </tr>\n",
       "  </thead>\n",
       "  <tbody>\n",
       "    <tr>\n",
       "      <th>16</th>\n",
       "      <td>VEER EPITOME OF EMOTIONS</td>\n",
       "      <td>12702.0</td>\n",
       "      <td>German</td>\n",
       "    </tr>\n",
       "    <tr>\n",
       "      <th>48</th>\n",
       "      <td>#CaptainMiller</td>\n",
       "      <td>13818.0</td>\n",
       "      <td>French</td>\n",
       "    </tr>\n",
       "    <tr>\n",
       "      <th>36</th>\n",
       "      <td>Nandini</td>\n",
       "      <td>15271.0</td>\n",
       "      <td>Indonesian</td>\n",
       "    </tr>\n",
       "    <tr>\n",
       "      <th>6</th>\n",
       "      <td>सचिन पायलट</td>\n",
       "      <td>16295.0</td>\n",
       "      <td>Nepali</td>\n",
       "    </tr>\n",
       "    <tr>\n",
       "      <th>24</th>\n",
       "      <td>Amul</td>\n",
       "      <td>16408.0</td>\n",
       "      <td>Tagalog</td>\n",
       "    </tr>\n",
       "    <tr>\n",
       "      <th>44</th>\n",
       "      <td>#हम_मुकेश_भाकर_के_साथ_हैं</td>\n",
       "      <td>17471.0</td>\n",
       "      <td>Hindi</td>\n",
       "    </tr>\n",
       "    <tr>\n",
       "      <th>42</th>\n",
       "      <td>दलित महिला</td>\n",
       "      <td>18779.0</td>\n",
       "      <td>Nepali</td>\n",
       "    </tr>\n",
       "    <tr>\n",
       "      <th>18</th>\n",
       "      <td>Jago Hindus Jago</td>\n",
       "      <td>19180.0</td>\n",
       "      <td>Tagalog</td>\n",
       "    </tr>\n",
       "    <tr>\n",
       "      <th>13</th>\n",
       "      <td>Sushant Singh Rajput Matters</td>\n",
       "      <td>24622.0</td>\n",
       "      <td>English</td>\n",
       "    </tr>\n",
       "    <tr>\n",
       "      <th>25</th>\n",
       "      <td>Swag</td>\n",
       "      <td>28359.0</td>\n",
       "      <td>Tagalog</td>\n",
       "    </tr>\n",
       "  </tbody>\n",
       "</table>\n",
       "</div>"
      ],
      "text/plain": [
       "                          Trends   Volume    Language\n",
       "16      VEER EPITOME OF EMOTIONS  12702.0      German\n",
       "48                #CaptainMiller  13818.0      French\n",
       "36                       Nandini  15271.0  Indonesian\n",
       "6                     सचिन पायलट  16295.0      Nepali\n",
       "24                          Amul  16408.0     Tagalog\n",
       "44     #हम_मुकेश_भाकर_के_साथ_हैं  17471.0       Hindi\n",
       "42                    दलित महिला  18779.0      Nepali\n",
       "18              Jago Hindus Jago  19180.0     Tagalog\n",
       "13  Sushant Singh Rajput Matters  24622.0     English\n",
       "25                          Swag  28359.0     Tagalog"
      ]
     },
     "execution_count": 19,
     "metadata": {},
     "output_type": "execute_result"
    }
   ],
   "source": [
    "def get_trends_by_location(loc_id,count):\n",
    "    '''Get Trending Tweets by Location'''\n",
    "    \n",
    "    try:\n",
    "        trends = API.get_place_trends(loc_id)\n",
    "        df = pd.DataFrame([trending['name'],  trending['tweet_volume'], iso639.to_name(detect(trending['name']))] for trending in trends[0]['trends'])\n",
    "        df.columns = ['Trends','Volume','Language']\n",
    "        df = df.sort_values('Volume', ascending = True) \n",
    "        return(df[:count])\n",
    "    except Exception as e:\n",
    "        print(\"An exception occurred\",e)\n",
    "        \n",
    "        \n",
    "df_india_trends = get_trends_by_location(23424848, 10)\n",
    "df_india_trends"
   ]
  },
  {
   "cell_type": "code",
   "execution_count": 20,
   "id": "b726a67f",
   "metadata": {},
   "outputs": [],
   "source": [
    "# Setting style for slider widget\n",
    "style={'description_width':'initial'}"
   ]
  },
  {
   "cell_type": "code",
   "execution_count": 21,
   "id": "6e4a82ce",
   "metadata": {},
   "outputs": [],
   "source": [
    "# setting limits, default value and other values for slider\n",
    "limit_case = widgets.IntSlider(value=10,min=5,max=50,step=1,description='Top:',disabled=False,style=style)"
   ]
  },
  {
   "cell_type": "code",
   "execution_count": 22,
   "id": "eeb1e587",
   "metadata": {},
   "outputs": [],
   "source": [
    "# defining a function to plot data\n",
    "def top_n_trends(n):\n",
    "    ''' Function Prints top n trending topics in India in last 24 hours, and plots out barchart for number of posts for those topics(if available on API) \n",
    "    n: number of topics'''\n",
    "    # creating a Dataframe for topics and volume\n",
    "    df = pd.DataFrame([(j['name'],j['tweet_volume']) for j in API.get_place_trends(id=woeid)[0]['trends'][:n]],columns=(['Topic','volume']))\n",
    "    # Plotting Top N topics\n",
    "    px.bar(df,x='Topic',y='volume',hover_data=['Topic','volume'],color='Topic').show()"
   ]
  },
  {
   "cell_type": "code",
   "execution_count": 23,
   "id": "6f9eceaa",
   "metadata": {},
   "outputs": [
    {
     "data": {
      "application/vnd.jupyter.widget-view+json": {
       "model_id": "fbdf13981f96415da1ab3b57f938938e",
       "version_major": 2,
       "version_minor": 0
      },
      "text/plain": [
       "interactive(children=(IntSlider(value=10, description='Top:', max=50, min=5, style=SliderStyle(description_wid…"
      ]
     },
     "metadata": {},
     "output_type": "display_data"
    }
   ],
   "source": [
    "##Visualize\n",
    "widgets.interactive(top_n_trends,n=limit_case)"
   ]
  },
  {
   "cell_type": "code",
   "execution_count": null,
   "id": "2506d228",
   "metadata": {},
   "outputs": [],
   "source": []
  },
  {
   "cell_type": "code",
   "execution_count": null,
   "id": "316be440",
   "metadata": {},
   "outputs": [],
   "source": []
  },
  {
   "cell_type": "code",
   "execution_count": null,
   "id": "281b75be",
   "metadata": {},
   "outputs": [],
   "source": []
  }
 ],
 "metadata": {
  "kernelspec": {
   "display_name": "Python 3 (ipykernel)",
   "language": "python",
   "name": "python3"
  },
  "language_info": {
   "codemirror_mode": {
    "name": "ipython",
    "version": 3
   },
   "file_extension": ".py",
   "mimetype": "text/x-python",
   "name": "python",
   "nbconvert_exporter": "python",
   "pygments_lexer": "ipython3",
   "version": "3.9.12"
  }
 },
 "nbformat": 4,
 "nbformat_minor": 5
}
